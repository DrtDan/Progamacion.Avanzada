{
 "cells": [
  {
   "cell_type": "markdown",
   "id": "5f083d75-0b1f-4197-a54c-c566d1efebd9",
   "metadata": {},
   "source": [
    "\n",
    "# Implementación de Perceptrón para solicitudes de Prestamo\n",
    "\n",
    "## Objetivo:\n",
    "\n",
    "Implementar y entrenar un perceptrón en Python que permita clasificar solicitudes de préstamo en aprobadas (1) o rechazadas (0), en función de variables financieras relevantes.\n",
    "\n",
    "## Problema a Resolver:\n",
    "\n",
    "Una institución financiera desea automatizar la clasificación de solicitudes de préstamo, utilizando un perceptrón que evalúe cuatro factores clave para tomar decisiones:\n",
    "\n",
    "    Puntaje de crédito: Valor numérico (por ejemplo, entre 300 y 850).\n",
    "    Ingresos mensuales: Expresado en miles de pesos.\n",
    "    Monto del préstamo solicitado: Expresado en miles de pesos.\n",
    "    Relación deuda/ingresos: Valor decimal (por ejemplo, 0.2, 0.5, etc.).\n",
    "\n",
    "La institución proporciona un conjunto de datos históricos con ejemplos de solicitudes aprobadas y rechazadas. El perceptrón debe aprender a clasificar correctamente cada solicitud.\n"
   ]
  },
  {
   "cell_type": "markdown",
   "id": "948886a7-d8b3-4e9f-a29b-8ecf9b83837e",
   "metadata": {},
   "source": [
    "# Creación del DataFrame"
   ]
  },
  {
   "cell_type": "code",
   "execution_count": 4,
   "id": "7f6cb1d6-2cfb-4be8-ae50-726a8403acaf",
   "metadata": {},
   "outputs": [
    {
     "data": {
      "text/html": [
       "<div>\n",
       "<style scoped>\n",
       "    .dataframe tbody tr th:only-of-type {\n",
       "        vertical-align: middle;\n",
       "    }\n",
       "\n",
       "    .dataframe tbody tr th {\n",
       "        vertical-align: top;\n",
       "    }\n",
       "\n",
       "    .dataframe thead th {\n",
       "        text-align: right;\n",
       "    }\n",
       "</style>\n",
       "<table border=\"1\" class=\"dataframe\">\n",
       "  <thead>\n",
       "    <tr style=\"text-align: right;\">\n",
       "      <th></th>\n",
       "      <th>Puntaje de Crédito</th>\n",
       "      <th>Ingresos (miles $)</th>\n",
       "      <th>Monto del Préstamo (miles $)</th>\n",
       "      <th>Relación Deuda/Ingresos</th>\n",
       "      <th>Solicitud Aprobada (Salida)</th>\n",
       "    </tr>\n",
       "  </thead>\n",
       "  <tbody>\n",
       "    <tr>\n",
       "      <th>0</th>\n",
       "      <td>750</td>\n",
       "      <td>5.0</td>\n",
       "      <td>20.0</td>\n",
       "      <td>0.3</td>\n",
       "      <td>1</td>\n",
       "    </tr>\n",
       "    <tr>\n",
       "      <th>1</th>\n",
       "      <td>600</td>\n",
       "      <td>3.0</td>\n",
       "      <td>15.0</td>\n",
       "      <td>0.6</td>\n",
       "      <td>0</td>\n",
       "    </tr>\n",
       "    <tr>\n",
       "      <th>2</th>\n",
       "      <td>680</td>\n",
       "      <td>4.0</td>\n",
       "      <td>10.0</td>\n",
       "      <td>0.4</td>\n",
       "      <td>1</td>\n",
       "    </tr>\n",
       "    <tr>\n",
       "      <th>3</th>\n",
       "      <td>550</td>\n",
       "      <td>2.5</td>\n",
       "      <td>8.0</td>\n",
       "      <td>0.7</td>\n",
       "      <td>0</td>\n",
       "    </tr>\n",
       "    <tr>\n",
       "      <th>4</th>\n",
       "      <td>800</td>\n",
       "      <td>6.0</td>\n",
       "      <td>25.0</td>\n",
       "      <td>0.2</td>\n",
       "      <td>1</td>\n",
       "    </tr>\n",
       "  </tbody>\n",
       "</table>\n",
       "</div>"
      ],
      "text/plain": [
       "   Puntaje de Crédito  Ingresos (miles $)  Monto del Préstamo (miles $)  \\\n",
       "0                 750                 5.0                          20.0   \n",
       "1                 600                 3.0                          15.0   \n",
       "2                 680                 4.0                          10.0   \n",
       "3                 550                 2.5                           8.0   \n",
       "4                 800                 6.0                          25.0   \n",
       "\n",
       "   Relación Deuda/Ingresos  Solicitud Aprobada (Salida)  \n",
       "0                      0.3                            1  \n",
       "1                      0.6                            0  \n",
       "2                      0.4                            1  \n",
       "3                      0.7                            0  \n",
       "4                      0.2                            1  "
      ]
     },
     "metadata": {},
     "output_type": "display_data"
    }
   ],
   "source": [
    "import pandas as pd\n",
    "\n",
    "# Crear el DataFrame\n",
    "data = {\n",
    "    \"Puntaje de Crédito\": [750, 600, 680, 550, 800],\n",
    "    \"Ingresos (miles $)\": [5.0, 3.0, 4.0, 2.5, 6.0],\n",
    "    \"Monto del Préstamo (miles $)\": [20.0, 15.0, 10.0, 8.0, 25.0],\n",
    "    \"Relación Deuda/Ingresos\": [0.3, 0.6, 0.4, 0.7, 0.2],\n",
    "    \"Solicitud Aprobada (Salida)\": [1, 0, 1, 0, 1]\n",
    "}\n",
    "\n",
    "df = pd.DataFrame(data)\n",
    "\n",
    "# Mostrar la tabla\n",
    "from IPython.display import display\n",
    "display(df)"
   ]
  },
  {
   "cell_type": "markdown",
   "id": "dba442eb-2aad-4fcd-b6fc-bcec104e9bb1",
   "metadata": {},
   "source": [
    "    Crea un DataFrame con 5 muestras de datos de solicitudes de préstamo. \n",
    "    \n",
    "    Cada muestra tiene 4 características de entrada y 1 salida binaria (1=aprobado, 0=rechazado)."
   ]
  },
  {
   "cell_type": "markdown",
   "id": "1916d5a3-8714-4364-90cb-967949c4cbf4",
   "metadata": {},
   "source": [
    "# Preparación de los Datos"
   ]
  },
  {
   "cell_type": "code",
   "execution_count": 8,
   "id": "68060e90-e096-44d4-a1ac-1f37935e3ec1",
   "metadata": {},
   "outputs": [],
   "source": [
    "import numpy as np\n",
    "x = np.array([\n",
    "    [750, 5.0, 20.0, 0.3],\n",
    "    [600, 3.0, 15.0, 0.6],\n",
    "    [680, 4.0, 10.0, 0.4],\n",
    "    [550, 2.5, 8.0, 0.7],\n",
    "    [800, 6.0, 25.0, 0.2]])\n",
    "y = np.array([1,0,1,0,1])\n",
    "#Normalización de los datos\n",
    "x = (x - x.min(axis=0)) / (x.max(axis=0) - x.min(axis=0))"
   ]
  },
  {
   "cell_type": "markdown",
   "id": "27b2f982-a463-40be-b04d-0dcca67e2931",
   "metadata": {},
   "source": [
    "    Convierte los datos a arrays de NumPy para el procesamiento.\n",
    "\n",
    "    Normaliza los datos para que todas las características estén en el rango [0, 1], lo que ayuda al algoritmo a converger más rápido."
   ]
  },
  {
   "cell_type": "markdown",
   "id": "d5139a47-eaf6-49b1-8598-181d2c2e0af8",
   "metadata": {},
   "source": [
    "# Inicialización de Parámetros"
   ]
  },
  {
   "cell_type": "code",
   "execution_count": 12,
   "id": "21f128e2-5cc8-455d-8128-a25cfe90fe6f",
   "metadata": {},
   "outputs": [
    {
     "name": "stdout",
     "output_type": "stream",
     "text": [
      "[0.32729979 0.14122094 0.46199037 0.66292187]\n",
      "[0.72676856]\n"
     ]
    }
   ],
   "source": [
    "learning_rate = 0.1\n",
    "epoch = 20\n",
    "\n",
    "weights = np.random.rand(4)\n",
    "bias = np.random.rand(1)\n",
    "print(weights)\n",
    "print(bias)"
   ]
  },
  {
   "cell_type": "markdown",
   "id": "10d93e6d-c1b9-4dcb-af72-7c73f30f7c92",
   "metadata": {},
   "source": [
    "    learning_rate: Controla cuánto ajustamos los pesos en cada iteración (0.1 es un valor moderado).\n",
    "\n",
    "    epoch: Número de veces que el algoritmo verá todo el conjunto de datos.\n",
    "\n",
    "    weights: Inicializa 4 pesos aleatorios (uno por cada característica).\n",
    "\n",
    "    bias: Término de sesgo aleatorio."
   ]
  },
  {
   "cell_type": "markdown",
   "id": "d8fe086e-e74f-45f5-b24d-56fdfac21e5c",
   "metadata": {},
   "source": [
    "# Función de Activación"
   ]
  },
  {
   "cell_type": "code",
   "execution_count": 16,
   "id": "b32f58af-e68c-4c11-a694-aa59cb41669a",
   "metadata": {},
   "outputs": [],
   "source": [
    "def activacion_function(x):\n",
    "    return 1 if x >= 0 else 0"
   ]
  },
  {
   "cell_type": "markdown",
   "id": "8f58cd81-2d03-48d5-9844-2a88042828f7",
   "metadata": {},
   "source": [
    "    Función escalón (step function) que devuelve 1 si la entrada es ≥ 0, y 0 en otro caso.\n",
    "\n",
    "    Esta es la función de activación clásica del perceptrón."
   ]
  },
  {
   "cell_type": "markdown",
   "id": "6b0c3018-ded2-4923-8d51-59baf1771a7d",
   "metadata": {},
   "source": [
    "# Entrenamiento del Perceptrón"
   ]
  },
  {
   "cell_type": "code",
   "execution_count": 20,
   "id": "7415a0a0-95e2-42b6-85dc-4a5565321536",
   "metadata": {},
   "outputs": [
    {
     "name": "stdout",
     "output_type": "stream",
     "text": [
      "Epoca: 1 \n",
      "Muestra 1: Entrada [0.8        0.71428571 0.70588235 0.2       ], Salida esperada 1, prediccion 1, error 0\n",
      "Muestra 2: Entrada [0.2        0.14285714 0.41176471 0.8       ], Salida esperada 0, prediccion 1, error -1\n",
      "Muestra 3: Entrada [0.52       0.42857143 0.11764706 0.4       ], Salida esperada 1, prediccion 1, error 0\n",
      "Muestra 4: Entrada [0. 0. 0. 1.], Salida esperada 0, prediccion 1, error -1\n",
      "Muestra 5: Entrada [1. 1. 1. 0.], Salida esperada 1, prediccion 1, error 0\n",
      "Pesos actualizados: [0.30729979 0.12693522 0.4208139  0.48292187], bias actualizado: [0.52676856]\n",
      "\n",
      "Epoca: 2 \n",
      "Muestra 1: Entrada [0.8        0.71428571 0.70588235 0.2       ], Salida esperada 1, prediccion 1, error 0\n",
      "Muestra 2: Entrada [0.2        0.14285714 0.41176471 0.8       ], Salida esperada 0, prediccion 1, error -1\n",
      "Muestra 3: Entrada [0.52       0.42857143 0.11764706 0.4       ], Salida esperada 1, prediccion 1, error 0\n",
      "Muestra 4: Entrada [0. 0. 0. 1.], Salida esperada 0, prediccion 1, error -1\n",
      "Muestra 5: Entrada [1. 1. 1. 0.], Salida esperada 1, prediccion 1, error 0\n",
      "Pesos actualizados: [0.28729979 0.11264951 0.37963743 0.30292187], bias actualizado: [0.32676856]\n",
      "\n",
      "Epoca: 3 \n",
      "Muestra 1: Entrada [0.8        0.71428571 0.70588235 0.2       ], Salida esperada 1, prediccion 1, error 0\n",
      "Muestra 2: Entrada [0.2        0.14285714 0.41176471 0.8       ], Salida esperada 0, prediccion 1, error -1\n",
      "Muestra 3: Entrada [0.52       0.42857143 0.11764706 0.4       ], Salida esperada 1, prediccion 1, error 0\n",
      "Muestra 4: Entrada [0. 0. 0. 1.], Salida esperada 0, prediccion 1, error -1\n",
      "Muestra 5: Entrada [1. 1. 1. 0.], Salida esperada 1, prediccion 1, error 0\n",
      "Pesos actualizados: [0.26729979 0.09836379 0.33846096 0.12292187], bias actualizado: [0.12676856]\n",
      "\n",
      "Epoca: 4 \n",
      "Muestra 1: Entrada [0.8        0.71428571 0.70588235 0.2       ], Salida esperada 1, prediccion 1, error 0\n",
      "Muestra 2: Entrada [0.2        0.14285714 0.41176471 0.8       ], Salida esperada 0, prediccion 1, error -1\n",
      "Muestra 3: Entrada [0.52       0.42857143 0.11764706 0.4       ], Salida esperada 1, prediccion 1, error 0\n",
      "Muestra 4: Entrada [0. 0. 0. 1.], Salida esperada 0, prediccion 1, error -1\n",
      "Muestra 5: Entrada [1. 1. 1. 0.], Salida esperada 1, prediccion 1, error 0\n",
      "Pesos actualizados: [ 0.24729979  0.08407808  0.29728449 -0.05707813], bias actualizado: [-0.07323144]\n",
      "\n",
      "Epoca: 5 \n",
      "Muestra 1: Entrada [0.8        0.71428571 0.70588235 0.2       ], Salida esperada 1, prediccion 1, error 0\n",
      "Muestra 2: Entrada [0.2        0.14285714 0.41176471 0.8       ], Salida esperada 0, prediccion 1, error -1\n",
      "Muestra 3: Entrada [0.52       0.42857143 0.11764706 0.4       ], Salida esperada 1, prediccion 0, error 1\n",
      "Muestra 4: Entrada [0. 0. 0. 1.], Salida esperada 0, prediccion 0, error 0\n",
      "Muestra 5: Entrada [1. 1. 1. 0.], Salida esperada 1, prediccion 1, error 0\n",
      "Pesos actualizados: [ 0.27929979  0.11264951  0.26787272 -0.09707813], bias actualizado: [-0.07323144]\n",
      "\n",
      "Epoca: 6 \n",
      "Muestra 1: Entrada [0.8        0.71428571 0.70588235 0.2       ], Salida esperada 1, prediccion 1, error 0\n",
      "Muestra 2: Entrada [0.2        0.14285714 0.41176471 0.8       ], Salida esperada 0, prediccion 1, error -1\n",
      "Muestra 3: Entrada [0.52       0.42857143 0.11764706 0.4       ], Salida esperada 1, prediccion 0, error 1\n",
      "Muestra 4: Entrada [0. 0. 0. 1.], Salida esperada 0, prediccion 0, error 0\n",
      "Muestra 5: Entrada [1. 1. 1. 0.], Salida esperada 1, prediccion 1, error 0\n",
      "Pesos actualizados: [ 0.31129979  0.14122094  0.23846096 -0.13707813], bias actualizado: [-0.07323144]\n",
      "\n",
      "Epoca: 7 \n",
      "Muestra 1: Entrada [0.8        0.71428571 0.70588235 0.2       ], Salida esperada 1, prediccion 1, error 0\n",
      "Muestra 2: Entrada [0.2        0.14285714 0.41176471 0.8       ], Salida esperada 0, prediccion 0, error 0\n",
      "Muestra 3: Entrada [0.52       0.42857143 0.11764706 0.4       ], Salida esperada 1, prediccion 1, error 0\n",
      "Muestra 4: Entrada [0. 0. 0. 1.], Salida esperada 0, prediccion 0, error 0\n",
      "Muestra 5: Entrada [1. 1. 1. 0.], Salida esperada 1, prediccion 1, error 0\n",
      "Pesos actualizados: [ 0.31129979  0.14122094  0.23846096 -0.13707813], bias actualizado: [-0.07323144]\n",
      "\n",
      "Epoca: 8 \n",
      "Muestra 1: Entrada [0.8        0.71428571 0.70588235 0.2       ], Salida esperada 1, prediccion 1, error 0\n",
      "Muestra 2: Entrada [0.2        0.14285714 0.41176471 0.8       ], Salida esperada 0, prediccion 0, error 0\n",
      "Muestra 3: Entrada [0.52       0.42857143 0.11764706 0.4       ], Salida esperada 1, prediccion 1, error 0\n",
      "Muestra 4: Entrada [0. 0. 0. 1.], Salida esperada 0, prediccion 0, error 0\n",
      "Muestra 5: Entrada [1. 1. 1. 0.], Salida esperada 1, prediccion 1, error 0\n",
      "Pesos actualizados: [ 0.31129979  0.14122094  0.23846096 -0.13707813], bias actualizado: [-0.07323144]\n",
      "\n",
      "Epoca: 9 \n",
      "Muestra 1: Entrada [0.8        0.71428571 0.70588235 0.2       ], Salida esperada 1, prediccion 1, error 0\n",
      "Muestra 2: Entrada [0.2        0.14285714 0.41176471 0.8       ], Salida esperada 0, prediccion 0, error 0\n",
      "Muestra 3: Entrada [0.52       0.42857143 0.11764706 0.4       ], Salida esperada 1, prediccion 1, error 0\n",
      "Muestra 4: Entrada [0. 0. 0. 1.], Salida esperada 0, prediccion 0, error 0\n",
      "Muestra 5: Entrada [1. 1. 1. 0.], Salida esperada 1, prediccion 1, error 0\n",
      "Pesos actualizados: [ 0.31129979  0.14122094  0.23846096 -0.13707813], bias actualizado: [-0.07323144]\n",
      "\n",
      "Epoca: 10 \n",
      "Muestra 1: Entrada [0.8        0.71428571 0.70588235 0.2       ], Salida esperada 1, prediccion 1, error 0\n",
      "Muestra 2: Entrada [0.2        0.14285714 0.41176471 0.8       ], Salida esperada 0, prediccion 0, error 0\n",
      "Muestra 3: Entrada [0.52       0.42857143 0.11764706 0.4       ], Salida esperada 1, prediccion 1, error 0\n",
      "Muestra 4: Entrada [0. 0. 0. 1.], Salida esperada 0, prediccion 0, error 0\n",
      "Muestra 5: Entrada [1. 1. 1. 0.], Salida esperada 1, prediccion 1, error 0\n",
      "Pesos actualizados: [ 0.31129979  0.14122094  0.23846096 -0.13707813], bias actualizado: [-0.07323144]\n",
      "\n",
      "Epoca: 11 \n",
      "Muestra 1: Entrada [0.8        0.71428571 0.70588235 0.2       ], Salida esperada 1, prediccion 1, error 0\n",
      "Muestra 2: Entrada [0.2        0.14285714 0.41176471 0.8       ], Salida esperada 0, prediccion 0, error 0\n",
      "Muestra 3: Entrada [0.52       0.42857143 0.11764706 0.4       ], Salida esperada 1, prediccion 1, error 0\n",
      "Muestra 4: Entrada [0. 0. 0. 1.], Salida esperada 0, prediccion 0, error 0\n",
      "Muestra 5: Entrada [1. 1. 1. 0.], Salida esperada 1, prediccion 1, error 0\n",
      "Pesos actualizados: [ 0.31129979  0.14122094  0.23846096 -0.13707813], bias actualizado: [-0.07323144]\n",
      "\n",
      "Epoca: 12 \n",
      "Muestra 1: Entrada [0.8        0.71428571 0.70588235 0.2       ], Salida esperada 1, prediccion 1, error 0\n",
      "Muestra 2: Entrada [0.2        0.14285714 0.41176471 0.8       ], Salida esperada 0, prediccion 0, error 0\n",
      "Muestra 3: Entrada [0.52       0.42857143 0.11764706 0.4       ], Salida esperada 1, prediccion 1, error 0\n",
      "Muestra 4: Entrada [0. 0. 0. 1.], Salida esperada 0, prediccion 0, error 0\n",
      "Muestra 5: Entrada [1. 1. 1. 0.], Salida esperada 1, prediccion 1, error 0\n",
      "Pesos actualizados: [ 0.31129979  0.14122094  0.23846096 -0.13707813], bias actualizado: [-0.07323144]\n",
      "\n",
      "Epoca: 13 \n",
      "Muestra 1: Entrada [0.8        0.71428571 0.70588235 0.2       ], Salida esperada 1, prediccion 1, error 0\n",
      "Muestra 2: Entrada [0.2        0.14285714 0.41176471 0.8       ], Salida esperada 0, prediccion 0, error 0\n",
      "Muestra 3: Entrada [0.52       0.42857143 0.11764706 0.4       ], Salida esperada 1, prediccion 1, error 0\n",
      "Muestra 4: Entrada [0. 0. 0. 1.], Salida esperada 0, prediccion 0, error 0\n",
      "Muestra 5: Entrada [1. 1. 1. 0.], Salida esperada 1, prediccion 1, error 0\n",
      "Pesos actualizados: [ 0.31129979  0.14122094  0.23846096 -0.13707813], bias actualizado: [-0.07323144]\n",
      "\n",
      "Epoca: 14 \n",
      "Muestra 1: Entrada [0.8        0.71428571 0.70588235 0.2       ], Salida esperada 1, prediccion 1, error 0\n",
      "Muestra 2: Entrada [0.2        0.14285714 0.41176471 0.8       ], Salida esperada 0, prediccion 0, error 0\n",
      "Muestra 3: Entrada [0.52       0.42857143 0.11764706 0.4       ], Salida esperada 1, prediccion 1, error 0\n",
      "Muestra 4: Entrada [0. 0. 0. 1.], Salida esperada 0, prediccion 0, error 0\n",
      "Muestra 5: Entrada [1. 1. 1. 0.], Salida esperada 1, prediccion 1, error 0\n",
      "Pesos actualizados: [ 0.31129979  0.14122094  0.23846096 -0.13707813], bias actualizado: [-0.07323144]\n",
      "\n",
      "Epoca: 15 \n",
      "Muestra 1: Entrada [0.8        0.71428571 0.70588235 0.2       ], Salida esperada 1, prediccion 1, error 0\n",
      "Muestra 2: Entrada [0.2        0.14285714 0.41176471 0.8       ], Salida esperada 0, prediccion 0, error 0\n",
      "Muestra 3: Entrada [0.52       0.42857143 0.11764706 0.4       ], Salida esperada 1, prediccion 1, error 0\n",
      "Muestra 4: Entrada [0. 0. 0. 1.], Salida esperada 0, prediccion 0, error 0\n",
      "Muestra 5: Entrada [1. 1. 1. 0.], Salida esperada 1, prediccion 1, error 0\n",
      "Pesos actualizados: [ 0.31129979  0.14122094  0.23846096 -0.13707813], bias actualizado: [-0.07323144]\n",
      "\n",
      "Epoca: 16 \n",
      "Muestra 1: Entrada [0.8        0.71428571 0.70588235 0.2       ], Salida esperada 1, prediccion 1, error 0\n",
      "Muestra 2: Entrada [0.2        0.14285714 0.41176471 0.8       ], Salida esperada 0, prediccion 0, error 0\n",
      "Muestra 3: Entrada [0.52       0.42857143 0.11764706 0.4       ], Salida esperada 1, prediccion 1, error 0\n",
      "Muestra 4: Entrada [0. 0. 0. 1.], Salida esperada 0, prediccion 0, error 0\n",
      "Muestra 5: Entrada [1. 1. 1. 0.], Salida esperada 1, prediccion 1, error 0\n",
      "Pesos actualizados: [ 0.31129979  0.14122094  0.23846096 -0.13707813], bias actualizado: [-0.07323144]\n",
      "\n",
      "Epoca: 17 \n",
      "Muestra 1: Entrada [0.8        0.71428571 0.70588235 0.2       ], Salida esperada 1, prediccion 1, error 0\n",
      "Muestra 2: Entrada [0.2        0.14285714 0.41176471 0.8       ], Salida esperada 0, prediccion 0, error 0\n",
      "Muestra 3: Entrada [0.52       0.42857143 0.11764706 0.4       ], Salida esperada 1, prediccion 1, error 0\n",
      "Muestra 4: Entrada [0. 0. 0. 1.], Salida esperada 0, prediccion 0, error 0\n",
      "Muestra 5: Entrada [1. 1. 1. 0.], Salida esperada 1, prediccion 1, error 0\n",
      "Pesos actualizados: [ 0.31129979  0.14122094  0.23846096 -0.13707813], bias actualizado: [-0.07323144]\n",
      "\n",
      "Epoca: 18 \n",
      "Muestra 1: Entrada [0.8        0.71428571 0.70588235 0.2       ], Salida esperada 1, prediccion 1, error 0\n",
      "Muestra 2: Entrada [0.2        0.14285714 0.41176471 0.8       ], Salida esperada 0, prediccion 0, error 0\n",
      "Muestra 3: Entrada [0.52       0.42857143 0.11764706 0.4       ], Salida esperada 1, prediccion 1, error 0\n",
      "Muestra 4: Entrada [0. 0. 0. 1.], Salida esperada 0, prediccion 0, error 0\n",
      "Muestra 5: Entrada [1. 1. 1. 0.], Salida esperada 1, prediccion 1, error 0\n",
      "Pesos actualizados: [ 0.31129979  0.14122094  0.23846096 -0.13707813], bias actualizado: [-0.07323144]\n",
      "\n",
      "Epoca: 19 \n",
      "Muestra 1: Entrada [0.8        0.71428571 0.70588235 0.2       ], Salida esperada 1, prediccion 1, error 0\n",
      "Muestra 2: Entrada [0.2        0.14285714 0.41176471 0.8       ], Salida esperada 0, prediccion 0, error 0\n",
      "Muestra 3: Entrada [0.52       0.42857143 0.11764706 0.4       ], Salida esperada 1, prediccion 1, error 0\n",
      "Muestra 4: Entrada [0. 0. 0. 1.], Salida esperada 0, prediccion 0, error 0\n",
      "Muestra 5: Entrada [1. 1. 1. 0.], Salida esperada 1, prediccion 1, error 0\n",
      "Pesos actualizados: [ 0.31129979  0.14122094  0.23846096 -0.13707813], bias actualizado: [-0.07323144]\n",
      "\n",
      "Epoca: 20 \n",
      "Muestra 1: Entrada [0.8        0.71428571 0.70588235 0.2       ], Salida esperada 1, prediccion 1, error 0\n",
      "Muestra 2: Entrada [0.2        0.14285714 0.41176471 0.8       ], Salida esperada 0, prediccion 0, error 0\n",
      "Muestra 3: Entrada [0.52       0.42857143 0.11764706 0.4       ], Salida esperada 1, prediccion 1, error 0\n",
      "Muestra 4: Entrada [0. 0. 0. 1.], Salida esperada 0, prediccion 0, error 0\n",
      "Muestra 5: Entrada [1. 1. 1. 0.], Salida esperada 1, prediccion 1, error 0\n",
      "Pesos actualizados: [ 0.31129979  0.14122094  0.23846096 -0.13707813], bias actualizado: [-0.07323144]\n",
      "\n"
     ]
    }
   ],
   "source": [
    "for epoch in range(epoch):\n",
    "  print(f\"Epoca: {epoch+1} \")\n",
    "  for i in range(len(x)):\n",
    "    linear_output = np.dot(x[i], weights) + bias\n",
    "    prediction = activacion_function(linear_output)\n",
    "    error = y[i] - prediction\n",
    "    weights = weights + learning_rate * error * x[i]\n",
    "    bias = bias + learning_rate * error\n",
    "    print(f\"Muestra {i+1}: Entrada {x[i]}, Salida esperada {y[i]}, prediccion {prediction}, error {error}\")\n",
    "  print(f\"Pesos actualizados: {weights}, bias actualizado: {bias}\\n\")"
   ]
  },
  {
   "cell_type": "markdown",
   "id": "6bce2ff8-ea99-4e30-aca0-ea659b7f7c51",
   "metadata": {},
   "source": [
    "      Bucle externo: Itera sobre cada época (pasada completa por los datos).\n",
    "\n",
    "      Bucle interno: Para cada muestra:\n",
    "\n",
    "        Calcula la salida lineal (producto punto + bias)\n",
    "\n",
    "        Aplica la función de activación para obtener la predicción (0 o 1)\n",
    "\n",
    "        Calcula el error (diferencia entre valor real y predicción)\n",
    "\n",
    "        Actualiza pesos y bias usando la regla de aprendizaje del perceptrón\n",
    "\n",
    "        Imprime información de depuración"
   ]
  },
  {
   "cell_type": "markdown",
   "id": "0ccffb31-516b-4f49-ae28-28602d70d697",
   "metadata": {},
   "source": [
    "# Evaluación Final"
   ]
  },
  {
   "cell_type": "code",
   "execution_count": 24,
   "id": "4070541f-714a-4cdc-8499-890ae28c9123",
   "metadata": {},
   "outputs": [
    {
     "name": "stdout",
     "output_type": "stream",
     "text": [
      "=====Evaluación del modelo=====\n",
      "Estatus de préstamo: APROBADO\n"
     ]
    }
   ],
   "source": [
    "print(\"=====Evaluación del modelo=====\")\n",
    "salida = 1 if error >= 0 else 0\n",
    "print(f\"Estatus de préstamo: {'APROBADO' if salida == 1 else 'RECHAZADO'}\")"
   ]
  },
  {
   "cell_type": "markdown",
   "id": "c251a9e2-adfb-41af-b3ec-a060b738c8ce",
   "metadata": {},
   "source": [
    "    Muestra el resultado de la última predicción realizada durante el entrenamiento.\n",
    "\n",
    "    Nota: Esta parte del código tiene un error conceptual, ya que solo evalúa la última muestra en lugar de hacer una evaluación completa del modelo."
   ]
  }
 ],
 "metadata": {
  "kernelspec": {
   "display_name": "Python [conda env:base] *",
   "language": "python",
   "name": "conda-base-py"
  },
  "language_info": {
   "codemirror_mode": {
    "name": "ipython",
    "version": 3
   },
   "file_extension": ".py",
   "mimetype": "text/x-python",
   "name": "python",
   "nbconvert_exporter": "python",
   "pygments_lexer": "ipython3",
   "version": "3.12.7"
  }
 },
 "nbformat": 4,
 "nbformat_minor": 5
}
